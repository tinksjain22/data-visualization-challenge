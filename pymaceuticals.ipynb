{
  "cells": [
    {
      "cell_type": "markdown",
      "metadata": {
        "id": "zVY---Rh3Ghk"
      },
      "source": [
        "# Pymaceuticals Inc.\n",
        "---\n",
        "\n",
        "### Analysis\n",
        "\n",
        "\n",
        "\n",
        "*   Tumor Volume Trends: Drug regimens like Capomulin show a consistent reduction in tumor volume over time, indicating its potential effectiveness in treating cancer.\n",
        "*   Metastatic Spread: Some drug regimens are more effective in limiting the spread of metastasis, which is crucial for increasing survival rates.\n",
        "*   Survival Rates: Mice treated with Capomulin and Ramicane have higher survival rates.\n",
        "\n",
        "\n",
        "\n",
        "\n"
      ]
    },
    {
      "cell_type": "code",
      "execution_count": 1,
      "metadata": {
        "colab": {
          "base_uri": "https://localhost:8080/",
          "height": 206
        },
        "id": "ZueizEnN3Ghl",
        "outputId": "438645b9-e6a4-4844-e927-06042f3928da"
      },
      "outputs": [
        {
          "data": {
            "text/html": [
              "<div>\n",
              "<style scoped>\n",
              "    .dataframe tbody tr th:only-of-type {\n",
              "        vertical-align: middle;\n",
              "    }\n",
              "\n",
              "    .dataframe tbody tr th {\n",
              "        vertical-align: top;\n",
              "    }\n",
              "\n",
              "    .dataframe thead th {\n",
              "        text-align: right;\n",
              "    }\n",
              "</style>\n",
              "<table border=\"1\" class=\"dataframe\">\n",
              "  <thead>\n",
              "    <tr style=\"text-align: right;\">\n",
              "      <th></th>\n",
              "      <th>Mouse ID</th>\n",
              "      <th>Timepoint</th>\n",
              "      <th>Tumor Volume (mm3)</th>\n",
              "      <th>Metastatic Sites</th>\n",
              "      <th>Drug Regimen</th>\n",
              "      <th>Sex</th>\n",
              "      <th>Age_months</th>\n",
              "      <th>Weight (g)</th>\n",
              "    </tr>\n",
              "  </thead>\n",
              "  <tbody>\n",
              "    <tr>\n",
              "      <th>0</th>\n",
              "      <td>b128</td>\n",
              "      <td>0</td>\n",
              "      <td>45.0</td>\n",
              "      <td>0</td>\n",
              "      <td>Capomulin</td>\n",
              "      <td>Female</td>\n",
              "      <td>9</td>\n",
              "      <td>22</td>\n",
              "    </tr>\n",
              "    <tr>\n",
              "      <th>1</th>\n",
              "      <td>f932</td>\n",
              "      <td>0</td>\n",
              "      <td>45.0</td>\n",
              "      <td>0</td>\n",
              "      <td>Ketapril</td>\n",
              "      <td>Male</td>\n",
              "      <td>15</td>\n",
              "      <td>29</td>\n",
              "    </tr>\n",
              "    <tr>\n",
              "      <th>2</th>\n",
              "      <td>g107</td>\n",
              "      <td>0</td>\n",
              "      <td>45.0</td>\n",
              "      <td>0</td>\n",
              "      <td>Ketapril</td>\n",
              "      <td>Female</td>\n",
              "      <td>2</td>\n",
              "      <td>29</td>\n",
              "    </tr>\n",
              "    <tr>\n",
              "      <th>3</th>\n",
              "      <td>a457</td>\n",
              "      <td>0</td>\n",
              "      <td>45.0</td>\n",
              "      <td>0</td>\n",
              "      <td>Ketapril</td>\n",
              "      <td>Female</td>\n",
              "      <td>11</td>\n",
              "      <td>30</td>\n",
              "    </tr>\n",
              "    <tr>\n",
              "      <th>4</th>\n",
              "      <td>c819</td>\n",
              "      <td>0</td>\n",
              "      <td>45.0</td>\n",
              "      <td>0</td>\n",
              "      <td>Ketapril</td>\n",
              "      <td>Male</td>\n",
              "      <td>21</td>\n",
              "      <td>25</td>\n",
              "    </tr>\n",
              "  </tbody>\n",
              "</table>\n",
              "</div>"
            ],
            "text/plain": [
              "  Mouse ID  Timepoint  Tumor Volume (mm3)  Metastatic Sites Drug Regimen  \\\n",
              "0     b128          0                45.0                 0    Capomulin   \n",
              "1     f932          0                45.0                 0     Ketapril   \n",
              "2     g107          0                45.0                 0     Ketapril   \n",
              "3     a457          0                45.0                 0     Ketapril   \n",
              "4     c819          0                45.0                 0     Ketapril   \n",
              "\n",
              "      Sex  Age_months  Weight (g)  \n",
              "0  Female           9          22  \n",
              "1    Male          15          29  \n",
              "2  Female           2          29  \n",
              "3  Female          11          30  \n",
              "4    Male          21          25  "
            ]
          },
          "execution_count": 1,
          "metadata": {},
          "output_type": "execute_result"
        }
      ],
      "source": [
        "# Dependencies and Setup\n",
        "import matplotlib.pyplot as plt\n",
        "import pandas as pd\n",
        "import scipy.stats as st\n",
        "\n",
        "# Study data files\n",
        "mouse_metadata_path = \"Data/Mouse_metadata.csv\"\n",
        "study_results_path = \"Data/Study_results.csv\"\n",
        "\n",
        "# Read the mouse data and the study results\n",
        "mouse_metadata = pd.read_csv(mouse_metadata_path)\n",
        "study_results = pd.read_csv(study_results_path)\n",
        "\n",
        "# Combine the data into a single DataFrame\n",
        "combined_data = pd.merge(study_results,mouse_metadata, on=[\"Mouse ID\",\"Mouse ID\"] ,how=\"left\")\n",
        "\n",
        "# Display the data table for preview\n",
        "combined_data.head()"
      ]
    },
    {
      "cell_type": "code",
      "execution_count": 2,
      "metadata": {
        "colab": {
          "base_uri": "https://localhost:8080/"
        },
        "id": "7U0S0Ztz3Ghm",
        "outputId": "fc91f061-50f5-4070-ed24-e9f41ad26b6c"
      },
      "outputs": [
        {
          "data": {
            "text/plain": [
              "249"
            ]
          },
          "execution_count": 2,
          "metadata": {},
          "output_type": "execute_result"
        }
      ],
      "source": [
        "# Checking the number of mice.\n",
        "count_mice = combined_data[\"Mouse ID\"].nunique()\n",
        "count_mice"
      ]
    },
    {
      "cell_type": "code",
      "execution_count": 3,
      "metadata": {
        "colab": {
          "base_uri": "https://localhost:8080/"
        },
        "id": "kT97EpAd3Ghm",
        "outputId": "26877424-d97a-4e84-ccec-5f71f345fd6a"
      },
      "outputs": [
        {
          "data": {
            "text/plain": [
              "array(['g989'], dtype=object)"
            ]
          },
          "execution_count": 3,
          "metadata": {},
          "output_type": "execute_result"
        }
      ],
      "source": [
        "# Our data should be uniquely identified by Mouse ID and Timepoint\n",
        "# Get the duplicate mice by ID number that shows up for Mouse ID and Timepoint.\n",
        "duplicate_mice = combined_data.loc[combined_data.duplicated(subset=['Mouse ID', 'Timepoint']),'Mouse ID'].unique()\n",
        "duplicate_mice"
      ]
    },
    {
      "cell_type": "code",
      "execution_count": 4,
      "metadata": {
        "colab": {
          "base_uri": "https://localhost:8080/",
          "height": 457
        },
        "id": "NhFNyBhO3Ghm",
        "outputId": "06e253dc-b573-4295-d90a-85050b63a766"
      },
      "outputs": [
        {
          "data": {
            "text/html": [
              "<div>\n",
              "<style scoped>\n",
              "    .dataframe tbody tr th:only-of-type {\n",
              "        vertical-align: middle;\n",
              "    }\n",
              "\n",
              "    .dataframe tbody tr th {\n",
              "        vertical-align: top;\n",
              "    }\n",
              "\n",
              "    .dataframe thead th {\n",
              "        text-align: right;\n",
              "    }\n",
              "</style>\n",
              "<table border=\"1\" class=\"dataframe\">\n",
              "  <thead>\n",
              "    <tr style=\"text-align: right;\">\n",
              "      <th></th>\n",
              "      <th>Mouse ID</th>\n",
              "      <th>Timepoint</th>\n",
              "      <th>Tumor Volume (mm3)</th>\n",
              "      <th>Metastatic Sites</th>\n",
              "      <th>Drug Regimen</th>\n",
              "      <th>Sex</th>\n",
              "      <th>Age_months</th>\n",
              "      <th>Weight (g)</th>\n",
              "    </tr>\n",
              "  </thead>\n",
              "  <tbody>\n",
              "    <tr>\n",
              "      <th>107</th>\n",
              "      <td>g989</td>\n",
              "      <td>0</td>\n",
              "      <td>45.000000</td>\n",
              "      <td>0</td>\n",
              "      <td>Propriva</td>\n",
              "      <td>Female</td>\n",
              "      <td>21</td>\n",
              "      <td>26</td>\n",
              "    </tr>\n",
              "    <tr>\n",
              "      <th>137</th>\n",
              "      <td>g989</td>\n",
              "      <td>0</td>\n",
              "      <td>45.000000</td>\n",
              "      <td>0</td>\n",
              "      <td>Propriva</td>\n",
              "      <td>Female</td>\n",
              "      <td>21</td>\n",
              "      <td>26</td>\n",
              "    </tr>\n",
              "    <tr>\n",
              "      <th>329</th>\n",
              "      <td>g989</td>\n",
              "      <td>5</td>\n",
              "      <td>48.786801</td>\n",
              "      <td>0</td>\n",
              "      <td>Propriva</td>\n",
              "      <td>Female</td>\n",
              "      <td>21</td>\n",
              "      <td>26</td>\n",
              "    </tr>\n",
              "    <tr>\n",
              "      <th>360</th>\n",
              "      <td>g989</td>\n",
              "      <td>5</td>\n",
              "      <td>47.570392</td>\n",
              "      <td>0</td>\n",
              "      <td>Propriva</td>\n",
              "      <td>Female</td>\n",
              "      <td>21</td>\n",
              "      <td>26</td>\n",
              "    </tr>\n",
              "    <tr>\n",
              "      <th>620</th>\n",
              "      <td>g989</td>\n",
              "      <td>10</td>\n",
              "      <td>51.745156</td>\n",
              "      <td>0</td>\n",
              "      <td>Propriva</td>\n",
              "      <td>Female</td>\n",
              "      <td>21</td>\n",
              "      <td>26</td>\n",
              "    </tr>\n",
              "    <tr>\n",
              "      <th>681</th>\n",
              "      <td>g989</td>\n",
              "      <td>10</td>\n",
              "      <td>49.880528</td>\n",
              "      <td>0</td>\n",
              "      <td>Propriva</td>\n",
              "      <td>Female</td>\n",
              "      <td>21</td>\n",
              "      <td>26</td>\n",
              "    </tr>\n",
              "    <tr>\n",
              "      <th>815</th>\n",
              "      <td>g989</td>\n",
              "      <td>15</td>\n",
              "      <td>51.325852</td>\n",
              "      <td>1</td>\n",
              "      <td>Propriva</td>\n",
              "      <td>Female</td>\n",
              "      <td>21</td>\n",
              "      <td>26</td>\n",
              "    </tr>\n",
              "    <tr>\n",
              "      <th>869</th>\n",
              "      <td>g989</td>\n",
              "      <td>15</td>\n",
              "      <td>53.442020</td>\n",
              "      <td>0</td>\n",
              "      <td>Propriva</td>\n",
              "      <td>Female</td>\n",
              "      <td>21</td>\n",
              "      <td>26</td>\n",
              "    </tr>\n",
              "    <tr>\n",
              "      <th>950</th>\n",
              "      <td>g989</td>\n",
              "      <td>20</td>\n",
              "      <td>55.326122</td>\n",
              "      <td>1</td>\n",
              "      <td>Propriva</td>\n",
              "      <td>Female</td>\n",
              "      <td>21</td>\n",
              "      <td>26</td>\n",
              "    </tr>\n",
              "    <tr>\n",
              "      <th>1111</th>\n",
              "      <td>g989</td>\n",
              "      <td>20</td>\n",
              "      <td>54.657650</td>\n",
              "      <td>1</td>\n",
              "      <td>Propriva</td>\n",
              "      <td>Female</td>\n",
              "      <td>21</td>\n",
              "      <td>26</td>\n",
              "    </tr>\n",
              "    <tr>\n",
              "      <th>1195</th>\n",
              "      <td>g989</td>\n",
              "      <td>25</td>\n",
              "      <td>56.045564</td>\n",
              "      <td>1</td>\n",
              "      <td>Propriva</td>\n",
              "      <td>Female</td>\n",
              "      <td>21</td>\n",
              "      <td>26</td>\n",
              "    </tr>\n",
              "    <tr>\n",
              "      <th>1380</th>\n",
              "      <td>g989</td>\n",
              "      <td>30</td>\n",
              "      <td>59.082294</td>\n",
              "      <td>1</td>\n",
              "      <td>Propriva</td>\n",
              "      <td>Female</td>\n",
              "      <td>21</td>\n",
              "      <td>26</td>\n",
              "    </tr>\n",
              "    <tr>\n",
              "      <th>1592</th>\n",
              "      <td>g989</td>\n",
              "      <td>35</td>\n",
              "      <td>62.570880</td>\n",
              "      <td>2</td>\n",
              "      <td>Propriva</td>\n",
              "      <td>Female</td>\n",
              "      <td>21</td>\n",
              "      <td>26</td>\n",
              "    </tr>\n",
              "  </tbody>\n",
              "</table>\n",
              "</div>"
            ],
            "text/plain": [
              "     Mouse ID  Timepoint  Tumor Volume (mm3)  Metastatic Sites Drug Regimen  \\\n",
              "107      g989          0           45.000000                 0     Propriva   \n",
              "137      g989          0           45.000000                 0     Propriva   \n",
              "329      g989          5           48.786801                 0     Propriva   \n",
              "360      g989          5           47.570392                 0     Propriva   \n",
              "620      g989         10           51.745156                 0     Propriva   \n",
              "681      g989         10           49.880528                 0     Propriva   \n",
              "815      g989         15           51.325852                 1     Propriva   \n",
              "869      g989         15           53.442020                 0     Propriva   \n",
              "950      g989         20           55.326122                 1     Propriva   \n",
              "1111     g989         20           54.657650                 1     Propriva   \n",
              "1195     g989         25           56.045564                 1     Propriva   \n",
              "1380     g989         30           59.082294                 1     Propriva   \n",
              "1592     g989         35           62.570880                 2     Propriva   \n",
              "\n",
              "         Sex  Age_months  Weight (g)  \n",
              "107   Female          21          26  \n",
              "137   Female          21          26  \n",
              "329   Female          21          26  \n",
              "360   Female          21          26  \n",
              "620   Female          21          26  \n",
              "681   Female          21          26  \n",
              "815   Female          21          26  \n",
              "869   Female          21          26  \n",
              "950   Female          21          26  \n",
              "1111  Female          21          26  \n",
              "1195  Female          21          26  \n",
              "1380  Female          21          26  \n",
              "1592  Female          21          26  "
            ]
          },
          "execution_count": 4,
          "metadata": {},
          "output_type": "execute_result"
        }
      ],
      "source": [
        "# Optional: Get all the data for the duplicate mouse ID.\n",
        "dup_data = combined_data.loc[combined_data[\"Mouse ID\"].isin(duplicate_mice), :]\n",
        "dup_data"
      ]
    },
    {
      "cell_type": "code",
      "execution_count": 5,
      "metadata": {
        "colab": {
          "base_uri": "https://localhost:8080/",
          "height": 206
        },
        "id": "F8QVsvuN3Ghn",
        "outputId": "e4e3a970-a279-45eb-956f-a7f0f112870b"
      },
      "outputs": [
        {
          "data": {
            "text/html": [
              "<div>\n",
              "<style scoped>\n",
              "    .dataframe tbody tr th:only-of-type {\n",
              "        vertical-align: middle;\n",
              "    }\n",
              "\n",
              "    .dataframe tbody tr th {\n",
              "        vertical-align: top;\n",
              "    }\n",
              "\n",
              "    .dataframe thead th {\n",
              "        text-align: right;\n",
              "    }\n",
              "</style>\n",
              "<table border=\"1\" class=\"dataframe\">\n",
              "  <thead>\n",
              "    <tr style=\"text-align: right;\">\n",
              "      <th></th>\n",
              "      <th>Mouse ID</th>\n",
              "      <th>Timepoint</th>\n",
              "      <th>Tumor Volume (mm3)</th>\n",
              "      <th>Metastatic Sites</th>\n",
              "      <th>Drug Regimen</th>\n",
              "      <th>Sex</th>\n",
              "      <th>Age_months</th>\n",
              "      <th>Weight (g)</th>\n",
              "    </tr>\n",
              "  </thead>\n",
              "  <tbody>\n",
              "    <tr>\n",
              "      <th>0</th>\n",
              "      <td>b128</td>\n",
              "      <td>0</td>\n",
              "      <td>45.0</td>\n",
              "      <td>0</td>\n",
              "      <td>Capomulin</td>\n",
              "      <td>Female</td>\n",
              "      <td>9</td>\n",
              "      <td>22</td>\n",
              "    </tr>\n",
              "    <tr>\n",
              "      <th>1</th>\n",
              "      <td>f932</td>\n",
              "      <td>0</td>\n",
              "      <td>45.0</td>\n",
              "      <td>0</td>\n",
              "      <td>Ketapril</td>\n",
              "      <td>Male</td>\n",
              "      <td>15</td>\n",
              "      <td>29</td>\n",
              "    </tr>\n",
              "    <tr>\n",
              "      <th>2</th>\n",
              "      <td>g107</td>\n",
              "      <td>0</td>\n",
              "      <td>45.0</td>\n",
              "      <td>0</td>\n",
              "      <td>Ketapril</td>\n",
              "      <td>Female</td>\n",
              "      <td>2</td>\n",
              "      <td>29</td>\n",
              "    </tr>\n",
              "    <tr>\n",
              "      <th>3</th>\n",
              "      <td>a457</td>\n",
              "      <td>0</td>\n",
              "      <td>45.0</td>\n",
              "      <td>0</td>\n",
              "      <td>Ketapril</td>\n",
              "      <td>Female</td>\n",
              "      <td>11</td>\n",
              "      <td>30</td>\n",
              "    </tr>\n",
              "    <tr>\n",
              "      <th>4</th>\n",
              "      <td>c819</td>\n",
              "      <td>0</td>\n",
              "      <td>45.0</td>\n",
              "      <td>0</td>\n",
              "      <td>Ketapril</td>\n",
              "      <td>Male</td>\n",
              "      <td>21</td>\n",
              "      <td>25</td>\n",
              "    </tr>\n",
              "  </tbody>\n",
              "</table>\n",
              "</div>"
            ],
            "text/plain": [
              "  Mouse ID  Timepoint  Tumor Volume (mm3)  Metastatic Sites Drug Regimen  \\\n",
              "0     b128          0                45.0                 0    Capomulin   \n",
              "1     f932          0                45.0                 0     Ketapril   \n",
              "2     g107          0                45.0                 0     Ketapril   \n",
              "3     a457          0                45.0                 0     Ketapril   \n",
              "4     c819          0                45.0                 0     Ketapril   \n",
              "\n",
              "      Sex  Age_months  Weight (g)  \n",
              "0  Female           9          22  \n",
              "1    Male          15          29  \n",
              "2  Female           2          29  \n",
              "3  Female          11          30  \n",
              "4    Male          21          25  "
            ]
          },
          "execution_count": 5,
          "metadata": {},
          "output_type": "execute_result"
        }
      ],
      "source": [
        "# Create a clean DataFrame by dropping the duplicate mouse by its ID.\n",
        "clean_data = combined_data[combined_data['Mouse ID'].isin(duplicate_mice)==False]\n",
        "clean_data.head()"
      ]
    },
    {
      "cell_type": "code",
      "execution_count": 6,
      "metadata": {
        "colab": {
          "base_uri": "https://localhost:8080/"
        },
        "id": "_wVgHvaD3Ghn",
        "outputId": "3e97fe2d-e0f2-4d0c-e230-e0e963922a02"
      },
      "outputs": [
        {
          "data": {
            "text/plain": [
              "248"
            ]
          },
          "execution_count": 6,
          "metadata": {},
          "output_type": "execute_result"
        }
      ],
      "source": [
        "# Checking the number of mice in the clean DataFrame.\n",
        "count_mice = clean_data[\"Mouse ID\"].nunique()\n",
        "count_mice"
      ]
    },
    {
      "cell_type": "markdown",
      "metadata": {
        "id": "GokcKCRq3Ghn"
      },
      "source": [
        "## Summary Statistics"
      ]
    },
    {
      "cell_type": "code",
      "execution_count": 7,
      "metadata": {
        "colab": {
          "base_uri": "https://localhost:8080/",
          "height": 394
        },
        "id": "XOFp41GI3Gho",
        "outputId": "a229e568-f5a7-4ef2-aab7-8aebd76d815b"
      },
      "outputs": [
        {
          "data": {
            "text/html": [
              "<div>\n",
              "<style scoped>\n",
              "    .dataframe tbody tr th:only-of-type {\n",
              "        vertical-align: middle;\n",
              "    }\n",
              "\n",
              "    .dataframe tbody tr th {\n",
              "        vertical-align: top;\n",
              "    }\n",
              "\n",
              "    .dataframe thead th {\n",
              "        text-align: right;\n",
              "    }\n",
              "</style>\n",
              "<table border=\"1\" class=\"dataframe\">\n",
              "  <thead>\n",
              "    <tr style=\"text-align: right;\">\n",
              "      <th></th>\n",
              "      <th>Mean Tumor Volume</th>\n",
              "      <th>Median Tumor Volume</th>\n",
              "      <th>Tumor Volume Variance</th>\n",
              "      <th>Tumor Volume Std. Dev.</th>\n",
              "      <th>Tumor Volume Std. Err.</th>\n",
              "    </tr>\n",
              "    <tr>\n",
              "      <th>Drug Regimen</th>\n",
              "      <th></th>\n",
              "      <th></th>\n",
              "      <th></th>\n",
              "      <th></th>\n",
              "      <th></th>\n",
              "    </tr>\n",
              "  </thead>\n",
              "  <tbody>\n",
              "    <tr>\n",
              "      <th>Capomulin</th>\n",
              "      <td>40.675741</td>\n",
              "      <td>41.557809</td>\n",
              "      <td>24.947764</td>\n",
              "      <td>4.994774</td>\n",
              "      <td>0.329346</td>\n",
              "    </tr>\n",
              "    <tr>\n",
              "      <th>Ceftamin</th>\n",
              "      <td>52.591172</td>\n",
              "      <td>51.776157</td>\n",
              "      <td>39.290177</td>\n",
              "      <td>6.268188</td>\n",
              "      <td>0.469821</td>\n",
              "    </tr>\n",
              "    <tr>\n",
              "      <th>Infubinol</th>\n",
              "      <td>52.884795</td>\n",
              "      <td>51.820584</td>\n",
              "      <td>43.128684</td>\n",
              "      <td>6.567243</td>\n",
              "      <td>0.492236</td>\n",
              "    </tr>\n",
              "    <tr>\n",
              "      <th>Ketapril</th>\n",
              "      <td>55.235638</td>\n",
              "      <td>53.698743</td>\n",
              "      <td>68.553577</td>\n",
              "      <td>8.279709</td>\n",
              "      <td>0.603860</td>\n",
              "    </tr>\n",
              "    <tr>\n",
              "      <th>Naftisol</th>\n",
              "      <td>54.331565</td>\n",
              "      <td>52.509285</td>\n",
              "      <td>66.173479</td>\n",
              "      <td>8.134708</td>\n",
              "      <td>0.596466</td>\n",
              "    </tr>\n",
              "    <tr>\n",
              "      <th>Placebo</th>\n",
              "      <td>54.033581</td>\n",
              "      <td>52.288934</td>\n",
              "      <td>61.168083</td>\n",
              "      <td>7.821003</td>\n",
              "      <td>0.581331</td>\n",
              "    </tr>\n",
              "    <tr>\n",
              "      <th>Propriva</th>\n",
              "      <td>52.320930</td>\n",
              "      <td>50.446266</td>\n",
              "      <td>43.852013</td>\n",
              "      <td>6.622085</td>\n",
              "      <td>0.544332</td>\n",
              "    </tr>\n",
              "    <tr>\n",
              "      <th>Ramicane</th>\n",
              "      <td>40.216745</td>\n",
              "      <td>40.673236</td>\n",
              "      <td>23.486704</td>\n",
              "      <td>4.846308</td>\n",
              "      <td>0.320955</td>\n",
              "    </tr>\n",
              "    <tr>\n",
              "      <th>Stelasyn</th>\n",
              "      <td>54.233149</td>\n",
              "      <td>52.431737</td>\n",
              "      <td>59.450562</td>\n",
              "      <td>7.710419</td>\n",
              "      <td>0.573111</td>\n",
              "    </tr>\n",
              "    <tr>\n",
              "      <th>Zoniferol</th>\n",
              "      <td>53.236507</td>\n",
              "      <td>51.818479</td>\n",
              "      <td>48.533355</td>\n",
              "      <td>6.966589</td>\n",
              "      <td>0.516398</td>\n",
              "    </tr>\n",
              "  </tbody>\n",
              "</table>\n",
              "</div>"
            ],
            "text/plain": [
              "              Mean Tumor Volume  Median Tumor Volume  Tumor Volume Variance  \\\n",
              "Drug Regimen                                                                  \n",
              "Capomulin             40.675741            41.557809              24.947764   \n",
              "Ceftamin              52.591172            51.776157              39.290177   \n",
              "Infubinol             52.884795            51.820584              43.128684   \n",
              "Ketapril              55.235638            53.698743              68.553577   \n",
              "Naftisol              54.331565            52.509285              66.173479   \n",
              "Placebo               54.033581            52.288934              61.168083   \n",
              "Propriva              52.320930            50.446266              43.852013   \n",
              "Ramicane              40.216745            40.673236              23.486704   \n",
              "Stelasyn              54.233149            52.431737              59.450562   \n",
              "Zoniferol             53.236507            51.818479              48.533355   \n",
              "\n",
              "              Tumor Volume Std. Dev.  Tumor Volume Std. Err.  \n",
              "Drug Regimen                                                  \n",
              "Capomulin                   4.994774                0.329346  \n",
              "Ceftamin                    6.268188                0.469821  \n",
              "Infubinol                   6.567243                0.492236  \n",
              "Ketapril                    8.279709                0.603860  \n",
              "Naftisol                    8.134708                0.596466  \n",
              "Placebo                     7.821003                0.581331  \n",
              "Propriva                    6.622085                0.544332  \n",
              "Ramicane                    4.846308                0.320955  \n",
              "Stelasyn                    7.710419                0.573111  \n",
              "Zoniferol                   6.966589                0.516398  "
            ]
          },
          "execution_count": 7,
          "metadata": {},
          "output_type": "execute_result"
        }
      ],
      "source": [
        "# Generate a summary statistics table of mean, median, variance, standard deviation, and SEM of the tumor volume for each regimen\n",
        "\n",
        "# Use groupby and summary statistical methods to calculate the following properties of each drug regimen:\n",
        "# mean, median, variance, standard deviation, and SEM of the tumor volume.\n",
        "\n",
        "mean = clean_data['Tumor Volume (mm3)'].groupby(clean_data['Drug Regimen']).mean()\n",
        "median = clean_data['Tumor Volume (mm3)'].groupby(clean_data['Drug Regimen']).median()\n",
        "variance = clean_data['Tumor Volume (mm3)'].groupby(clean_data['Drug Regimen']).var()\n",
        "standard_deviation = clean_data['Tumor Volume (mm3)'].groupby(clean_data['Drug Regimen']).std()\n",
        "SEM = clean_data['Tumor Volume (mm3)'].groupby(clean_data['Drug Regimen']).sem()\n",
        "\n",
        "# Assemble the resulting series into a single summary DataFrame.\n",
        "statistics_summary = pd.DataFrame({\"Mean Tumor Volume\":mean,\n",
        "                                   \"Median Tumor Volume\":median,\n",
        "                                   \"Tumor Volume Variance\":variance,\n",
        "                                   \"Tumor Volume Std. Dev.\":standard_deviation,\n",
        "                                   \"Tumor Volume Std. Err.\":SEM })\n",
        "statistics_summary"
      ]
    },
    {
      "cell_type": "code",
      "execution_count": 8,
      "metadata": {
        "colab": {
          "base_uri": "https://localhost:8080/",
          "height": 426
        },
        "id": "hTR25NLs3Gho",
        "outputId": "f64f6b23-1b5f-4770-fee3-de57f13fbfc8"
      },
      "outputs": [
        {
          "data": {
            "text/html": [
              "<div>\n",
              "<style scoped>\n",
              "    .dataframe tbody tr th:only-of-type {\n",
              "        vertical-align: middle;\n",
              "    }\n",
              "\n",
              "    .dataframe tbody tr th {\n",
              "        vertical-align: top;\n",
              "    }\n",
              "\n",
              "    .dataframe thead tr th {\n",
              "        text-align: left;\n",
              "    }\n",
              "\n",
              "    .dataframe thead tr:last-of-type th {\n",
              "        text-align: right;\n",
              "    }\n",
              "</style>\n",
              "<table border=\"1\" class=\"dataframe\">\n",
              "  <thead>\n",
              "    <tr>\n",
              "      <th></th>\n",
              "      <th colspan=\"5\" halign=\"left\">Tumor Volume (mm3)</th>\n",
              "    </tr>\n",
              "    <tr>\n",
              "      <th></th>\n",
              "      <th>mean</th>\n",
              "      <th>median</th>\n",
              "      <th>var</th>\n",
              "      <th>std</th>\n",
              "      <th>sem</th>\n",
              "    </tr>\n",
              "    <tr>\n",
              "      <th>Drug Regimen</th>\n",
              "      <th></th>\n",
              "      <th></th>\n",
              "      <th></th>\n",
              "      <th></th>\n",
              "      <th></th>\n",
              "    </tr>\n",
              "  </thead>\n",
              "  <tbody>\n",
              "    <tr>\n",
              "      <th>Capomulin</th>\n",
              "      <td>40.675741</td>\n",
              "      <td>41.557809</td>\n",
              "      <td>24.947764</td>\n",
              "      <td>4.994774</td>\n",
              "      <td>0.329346</td>\n",
              "    </tr>\n",
              "    <tr>\n",
              "      <th>Ceftamin</th>\n",
              "      <td>52.591172</td>\n",
              "      <td>51.776157</td>\n",
              "      <td>39.290177</td>\n",
              "      <td>6.268188</td>\n",
              "      <td>0.469821</td>\n",
              "    </tr>\n",
              "    <tr>\n",
              "      <th>Infubinol</th>\n",
              "      <td>52.884795</td>\n",
              "      <td>51.820584</td>\n",
              "      <td>43.128684</td>\n",
              "      <td>6.567243</td>\n",
              "      <td>0.492236</td>\n",
              "    </tr>\n",
              "    <tr>\n",
              "      <th>Ketapril</th>\n",
              "      <td>55.235638</td>\n",
              "      <td>53.698743</td>\n",
              "      <td>68.553577</td>\n",
              "      <td>8.279709</td>\n",
              "      <td>0.603860</td>\n",
              "    </tr>\n",
              "    <tr>\n",
              "      <th>Naftisol</th>\n",
              "      <td>54.331565</td>\n",
              "      <td>52.509285</td>\n",
              "      <td>66.173479</td>\n",
              "      <td>8.134708</td>\n",
              "      <td>0.596466</td>\n",
              "    </tr>\n",
              "    <tr>\n",
              "      <th>Placebo</th>\n",
              "      <td>54.033581</td>\n",
              "      <td>52.288934</td>\n",
              "      <td>61.168083</td>\n",
              "      <td>7.821003</td>\n",
              "      <td>0.581331</td>\n",
              "    </tr>\n",
              "    <tr>\n",
              "      <th>Propriva</th>\n",
              "      <td>52.320930</td>\n",
              "      <td>50.446266</td>\n",
              "      <td>43.852013</td>\n",
              "      <td>6.622085</td>\n",
              "      <td>0.544332</td>\n",
              "    </tr>\n",
              "    <tr>\n",
              "      <th>Ramicane</th>\n",
              "      <td>40.216745</td>\n",
              "      <td>40.673236</td>\n",
              "      <td>23.486704</td>\n",
              "      <td>4.846308</td>\n",
              "      <td>0.320955</td>\n",
              "    </tr>\n",
              "    <tr>\n",
              "      <th>Stelasyn</th>\n",
              "      <td>54.233149</td>\n",
              "      <td>52.431737</td>\n",
              "      <td>59.450562</td>\n",
              "      <td>7.710419</td>\n",
              "      <td>0.573111</td>\n",
              "    </tr>\n",
              "    <tr>\n",
              "      <th>Zoniferol</th>\n",
              "      <td>53.236507</td>\n",
              "      <td>51.818479</td>\n",
              "      <td>48.533355</td>\n",
              "      <td>6.966589</td>\n",
              "      <td>0.516398</td>\n",
              "    </tr>\n",
              "  </tbody>\n",
              "</table>\n",
              "</div>"
            ],
            "text/plain": [
              "             Tumor Volume (mm3)                                          \n",
              "                           mean     median        var       std       sem\n",
              "Drug Regimen                                                             \n",
              "Capomulin             40.675741  41.557809  24.947764  4.994774  0.329346\n",
              "Ceftamin              52.591172  51.776157  39.290177  6.268188  0.469821\n",
              "Infubinol             52.884795  51.820584  43.128684  6.567243  0.492236\n",
              "Ketapril              55.235638  53.698743  68.553577  8.279709  0.603860\n",
              "Naftisol              54.331565  52.509285  66.173479  8.134708  0.596466\n",
              "Placebo               54.033581  52.288934  61.168083  7.821003  0.581331\n",
              "Propriva              52.320930  50.446266  43.852013  6.622085  0.544332\n",
              "Ramicane              40.216745  40.673236  23.486704  4.846308  0.320955\n",
              "Stelasyn              54.233149  52.431737  59.450562  7.710419  0.573111\n",
              "Zoniferol             53.236507  51.818479  48.533355  6.966589  0.516398"
            ]
          },
          "execution_count": 8,
          "metadata": {},
          "output_type": "execute_result"
        }
      ],
      "source": [
        "# A more advanced method to generate a summary statistics table of mean, median, variance, standard deviation,\n",
        "# and SEM of the tumor volume for each regimen (only one method is required in the solution)\n",
        "\n",
        "# Using the aggregation method, produce the same summary statistics in a single line\n",
        "advanced_method =  clean_data.groupby(['Drug Regimen'])[['Tumor Volume (mm3)']].agg(['mean', 'median', 'var', 'std', 'sem'])\n",
        "advanced_method"
      ]
    },
    {
      "cell_type": "markdown",
      "metadata": {
        "id": "tc0OI35t3Gho"
      },
      "source": [
        "## Bar and Pie Charts"
      ]
    },
    {
      "cell_type": "code",
      "execution_count": 9,
      "metadata": {
        "colab": {
          "base_uri": "https://localhost:8080/",
          "height": 510
        },
        "id": "nqtcQod-3Gho",
        "outputId": "1d0f8b8c-126f-41a2-cce8-e604882e33da"
      },
      "outputs": [
        {
          "data": {
            "image/png": "[encoded data removed]",
            "text/plain": [
              "<Figure size 640x480 with 1 Axes>"
            ]
          },
          "metadata": {},
          "output_type": "display_data"
        }
      ],
      "source": [
        "# Generate a bar plot showing the total number of rows (Mouse ID/Timepoints) for each drug regimen using Pandas.\n",
        "drug_counts = clean_data['Drug Regimen'].value_counts()\n",
        "# Plot the data\n",
        "drug_counts.plot(kind='bar')\n",
        "plt.xlabel('Drug Regimen')\n",
        "plt.ylabel('# of Observed Mouse Timepoints')\n",
        "plt.show()"
      ]
    },
    {
      "cell_type": "code",
      "execution_count": 10,
      "metadata": {
        "colab": {
          "base_uri": "https://localhost:8080/",
          "height": 525
        },
        "id": "3qbm4Vd33Gho",
        "outputId": "e0f65940-3c6d-43ea-c4e1-1ad79b33c12d"
      },
      "outputs": [
        {
          "data": {
            "image/png": "[encoded data removed]",
            "text/plain": [
              "<Figure size 640x480 with 1 Axes>"
            ]
          },
          "metadata": {},
          "output_type": "display_data"
        }
      ],
      "source": [
        "# Generate a bar plot showing the total number of rows (Mouse ID/Timepoints) for each drug regimen using pyplot.\n",
        "plt.bar(drug_counts.index,drug_counts.values)\n",
        "plt.xlabel('Drug Regimen')\n",
        "plt.ylabel('# of Observed Mouse Timepoints')\n",
        "plt.xticks(rotation=90)\n",
        "plt.show()\n"
      ]
    },
    {
      "cell_type": "code",
      "execution_count": 11,
      "metadata": {
        "colab": {
          "base_uri": "https://localhost:8080/",
          "height": 422
        },
        "id": "qewpjZyW3Ghp",
        "outputId": "ac7cd562-7da3-4b30-8af8-18b5ae7e7001"
      },
      "outputs": [
        {
          "data": {
            "image/png": "[encoded data removed]",
            "text/plain": [
              "<Figure size 600x500 with 1 Axes>"
            ]
          },
          "metadata": {},
          "output_type": "display_data"
        }
      ],
      "source": [
        "# Generate a pie chart, using Pandas, showing the distribution of unique female versus male mice used in the study\n",
        "\n",
        "# Get the unique mice with their gender\n",
        "\n",
        "unique_mice = clean_data.drop_duplicates(subset=['Mouse ID'])\n",
        "gender_counts = unique_mice['Sex'].value_counts()\n",
        "\n",
        "# Make the pie chart\n",
        "gender_counts.plot(kind='pie', autopct='%.1f%%', figsize=(6, 5))\n",
        "plt.ylabel('count')\n",
        "plt.show()"
      ]
    },
    {
      "cell_type": "code",
      "execution_count": 12,
      "metadata": {
        "colab": {
          "base_uri": "https://localhost:8080/",
          "height": 422
        },
        "id": "FoNThRf83Ghp",
        "outputId": "4be54713-5072-4d4d-ea4a-a121e8259bc7"
      },
      "outputs": [
        {
          "data": {
            "image/png": "[encoded data removed]",
            "text/plain": [
              "<Figure size 600x500 with 1 Axes>"
            ]
          },
          "metadata": {},
          "output_type": "display_data"
        }
      ],
      "source": [
        "# Generate a pie chart, using pyplot, showing the distribution of unique female versus male mice used in the study\n",
        "# Get the unique mice with their gender\n",
        "unique_mice = clean_data.drop_duplicates(subset=['Mouse ID'])\n",
        "gender_counts = unique_mice['Sex'].value_counts()\n",
        "\n",
        "# Make the pie chart\n",
        "plt.figure(figsize=(6, 5))\n",
        "plt.pie(gender_counts, labels=gender_counts.index, autopct='%.1f%%')\n",
        "plt.ylabel('count')\n",
        "plt.show()"
      ]
    },
    {
      "cell_type": "markdown",
      "metadata": {
        "id": "pHpe4XSE3Ghp"
      },
      "source": [
        "## Quartiles, Outliers and Boxplots"
      ]
    },
    {
      "cell_type": "code",
      "execution_count": 13,
      "metadata": {
        "id": "LATeTT0E3Ghp"
      },
      "outputs": [],
      "source": [
        "# Calculate the final tumor volume of each mouse across four of the treatment regimens:\n",
        "# Capomulin, Ramicane, Infubinol, and Ceftamin\n",
        "\n",
        "# Start by getting the last (greatest) timepoint for each mouse\n",
        "last_timepoint_df = clean_data.groupby('Mouse ID')['Timepoint'].max().reset_index()\n",
        "\n",
        "# Merge this group df with the original DataFrame to get the tumor volume at the last timepoint\n",
        "final_data = pd.merge(last_timepoint_df,clean_data, on=[\"Mouse ID\",\"Timepoint\"] ,how=\"left\")\n"
      ]
    },
    {
      "cell_type": "code",
      "execution_count": 14,
      "metadata": {
        "colab": {
          "base_uri": "https://localhost:8080/"
        },
        "id": "Or_wMNjEb_sv",
        "outputId": "d71a052f-02d6-4823-d3b6-544145f5fe06"
      },
      "outputs": [
        {
          "name": "stdout",
          "output_type": "stream",
          "text": [
            "Capomulin's potential outliers: Series([], Name: Tumor Volume (mm3), dtype: float64)\n",
            "Ramicane's potential outliers: Series([], Name: Tumor Volume (mm3), dtype: float64)\n",
            "Infubinol's potential outliers: 31    36.321346\n",
            "Name: Tumor Volume (mm3), dtype: float64\n",
            "Ceftamin's potential outliers: Series([], Name: Tumor Volume (mm3), dtype: float64)\n"
          ]
        }
      ],
      "source": [
        "# Put treatments into a list for for loop (and later for plot labels)\n",
        "treatments = ['Capomulin', 'Ramicane', 'Infubinol', 'Ceftamin']\n",
        "\n",
        "# Create empty list to fill with tumor vol data (for plotting)\n",
        "tumor_volumes = []\n",
        "\n",
        "# Calculate the IQR and quantitatively determine if there are any potential outliers.\n",
        "for treatment in treatments:\n",
        "    # Locate the rows which contain mice on each drug and get the tumor volumes\n",
        "    subset = final_data[final_data['Drug Regimen'] == treatment]['Tumor Volume (mm3)']\n",
        "\n",
        "    # Add the subset to the list of tumor volumes\n",
        "    tumor_volumes.append(subset)\n",
        "\n",
        "    # Calculate the IQR for this subset\n",
        "    Q1 = subset.quantile(0.25)\n",
        "    Q3 = subset.quantile(0.75)\n",
        "    IQR = Q3 - Q1\n",
        "\n",
        "    # Determine outliers using upper and lower bounds\n",
        "    lower_bound = Q1 - 1.5 * IQR\n",
        "    upper_bound = Q3 + 1.5 * IQR\n",
        "\n",
        "    # Identify potential outliers\n",
        "    outliers = subset[(subset < lower_bound) | (subset > upper_bound)]\n",
        "    print(f\"{treatment}'s potential outliers: {outliers}\")"
      ]
    },
    {
      "cell_type": "code",
      "execution_count": 15,
      "metadata": {
        "colab": {
          "base_uri": "https://localhost:8080/",
          "height": 430
        },
        "id": "MJ9HZUPB3Ghp",
        "outputId": "78b19de5-4d29-4657-f985-312a40a60c35"
      },
      "outputs": [
        {
          "data": {
            "image/png": "[encoded data removed]",
            "text/plain": [
              "<Figure size 640x480 with 1 Axes>"
            ]
          },
          "metadata": {},
          "output_type": "display_data"
        }
      ],
      "source": [
        "# Generate a box plot that shows the distribution of the tumor volume for each treatment group.\n",
        "plt.boxplot(tumor_volumes, labels=treatments, flierprops={'marker': 'o', 'markersize': 13, 'markerfacecolor': 'red'})\n",
        "plt.ylabel('Final Tumor Volume (mm3)')\n",
        "plt.show()"
      ]
    },
    {
      "cell_type": "markdown",
      "metadata": {
        "id": "rRgePJlN3Ghp"
      },
      "source": [
        "## Line and Scatter Plots"
      ]
    },
    {
      "cell_type": "code",
      "execution_count": 16,
      "metadata": {
        "colab": {
          "base_uri": "https://localhost:8080/",
          "height": 472
        },
        "id": "f3fMi-BK3Ghp",
        "outputId": "642b4bb8-342e-4e8a-96b7-3f26969a3d8b"
      },
      "outputs": [
        {
          "data": {
            "image/png": "[encoded data removed]",
            "text/plain": [
              "<Figure size 640x480 with 1 Axes>"
            ]
          },
          "metadata": {},
          "output_type": "display_data"
        }
      ],
      "source": [
        "# Generate a line plot of tumor volume vs. time point for a single mouse treated with Capomulin\n",
        "capomulin_df = clean_data[clean_data['Drug Regimen'] == 'Capomulin']\n",
        "\n",
        "# Select a specific mouse to plot\n",
        "mouse_id = 'l509'\n",
        "mouse_data = capomulin_df[capomulin_df['Mouse ID'] == mouse_id]\n",
        "# Generate the line plot\n",
        "plt.plot(mouse_data['Timepoint'], mouse_data['Tumor Volume (mm3)'])\n",
        "\n",
        "# Add labels and title\n",
        "plt.xlabel('Timepoint (days)')\n",
        "plt.ylabel('Tumor Volume (mm3)')\n",
        "plt.title(f'Capomulin treatment of mouse {mouse_id}')\n",
        "plt.show()"
      ]
    },
    {
      "cell_type": "code",
      "execution_count": 17,
      "metadata": {
        "colab": {
          "base_uri": "https://localhost:8080/",
          "height": 449
        },
        "id": "t4Hi_hTE3Ghq",
        "outputId": "a9dc687a-f03a-429f-c63e-7934ebb31061"
      },
      "outputs": [
        {
          "data": {
            "image/png": "[encoded data removed]",
            "text/plain": [
              "<Figure size 640x480 with 1 Axes>"
            ]
          },
          "metadata": {},
          "output_type": "display_data"
        }
      ],
      "source": [
        "# Generate a scatter plot of mouse weight vs. the average observed tumor volume for the entire Capomulin regimen\n",
        "# Calculate the average tumor volume for each mouse\n",
        "avg_tumor_volume = capomulin_df.groupby('Mouse ID').agg(\n",
        "    avg_tumor_volume=('Tumor Volume (mm3)', 'mean'),\n",
        "    weight=('Weight (g)', 'mean')\n",
        ").reset_index()\n",
        "\n",
        "# Generate the scatter plot\n",
        "\n",
        "plt.scatter(avg_tumor_volume['weight'], avg_tumor_volume['avg_tumor_volume'])\n",
        "\n",
        "# Add labels and title\n",
        "plt.xlabel('Weight (g)')\n",
        "plt.ylabel('Average Tumor Volume (mm3)')\n",
        "\n",
        "# Show the plot\n",
        "plt.show()"
      ]
    },
    {
      "cell_type": "markdown",
      "metadata": {
        "id": "yu12_nrF3Ghq"
      },
      "source": [
        "## Correlation and Regression"
      ]
    },
    {
      "cell_type": "code",
      "execution_count": 18,
      "metadata": {
        "colab": {
          "base_uri": "https://localhost:8080/",
          "height": 466
        },
        "id": "kZGVIU-c3Ghq",
        "outputId": "8d3b175a-622c-4b38-83e1-64d8018e36eb"
      },
      "outputs": [
        {
          "name": "stdout",
          "output_type": "stream",
          "text": [
            "The correlation between mouse weight and the average tumor volume is 0.84\n"
          ]
        },
        {
          "data": {
            "image/png": "[encoded data removed]",
            "text/plain": [
              "<Figure size 640x480 with 1 Axes>"
            ]
          },
          "metadata": {},
          "output_type": "display_data"
        }
      ],
      "source": [
        "# Calculate the correlation coefficient and a linear regression model\n",
        "# for mouse weight and average observed tumor volume for the entire Capomulin regimen\n",
        "\n",
        "# Calculate the correlation coefficient\n",
        "correlation, _ = st.pearsonr(avg_tumor_volume['weight'], avg_tumor_volume['avg_tumor_volume'])\n",
        "print(f\"The correlation between mouse weight and the average tumor volume is {correlation:.2f}\")\n",
        "\n",
        "# Perform linear regression\n",
        "slope, intercept, r_value, p_value, std_err = st.linregress(avg_tumor_volume['weight'], avg_tumor_volume['avg_tumor_volume'])\n",
        "\n",
        "# Scatter plot of mouse weight vs. average tumor volume\n",
        "plt.scatter(avg_tumor_volume['weight'], avg_tumor_volume['avg_tumor_volume'])\n",
        "\n",
        "# Plot the linear regression line\n",
        "plt.plot(avg_tumor_volume['weight'], slope * avg_tumor_volume['weight'] + intercept, color='r', label='Regression line')\n",
        "\n",
        "# Add labels, title, and legend\n",
        "plt.xlabel('Weight (g)')\n",
        "plt.ylabel('Average Tumor Volume (mm³)')\n",
        "\n",
        "\n",
        "# Show the plot\n",
        "plt.show()"
      ]
    }
  ],
  "metadata": {
    "anaconda-cloud": {},
    "colab": {
      "provenance": []
    },
    "kernelspec": {
      "display_name": "PythonData",
      "language": "python",
      "name": "python3"
    },
    "language_info": {
      "codemirror_mode": {
        "name": "ipython",
        "version": 3
      },
      "file_extension": ".py",
      "mimetype": "text/x-python",
      "name": "python",
      "nbconvert_exporter": "python",
      "pygments_lexer": "ipython3",
      "version": "3.10.14"
    }
  },
  "nbformat": 4,
  "nbformat_minor": 0
}
